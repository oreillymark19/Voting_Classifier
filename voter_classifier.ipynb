{
 "cells": [
  {
   "cell_type": "code",
   "execution_count": 106,
   "id": "african-virgin",
   "metadata": {},
   "outputs": [],
   "source": [
    "# Import libraries\n",
    "import matplotlib.pyplot as plt\n",
    "import numpy as np\n",
    "import pandas as pd\n",
    "import seaborn as sns"
   ]
  },
  {
   "cell_type": "code",
   "execution_count": 137,
   "id": "imperial-indie",
   "metadata": {},
   "outputs": [],
   "source": [
    "# Import data\n",
    "survey_data = pd.read_csv('nonvoters_data.csv')"
   ]
  },
  {
   "cell_type": "code",
   "execution_count": 138,
   "id": "concerned-anthony",
   "metadata": {},
   "outputs": [],
   "source": [
    "# Make data categorical\n",
    "survey_data = survey_data.astype('category')\n",
    "\n",
    "# Remove meaningless survey inputs and questions not of interest\n",
    "survey_data.loc[:,'Q2_1':'Q18_10'] = survey_data.loc[:,'Q2_1':'Q18_10'].replace(-1, np.nan)\n",
    "survey_data.loc[:,'Q23':'Q27_6'] = survey_data.loc[:,'Q23':'Q27_6'].replace(-1, np.nan)\n",
    "survey_data.loc[:,'Q30'] = survey_data.loc[:,'Q30'].replace(-1, np.nan)\n",
    "survey_data.loc[:,'Q19_1':'Q19_10'] = survey_data.loc[:,'Q19_1':'Q19_10'].replace(-1,0)\n",
    "survey_data = survey_data.drop(['Q20','Q21','Q22','Q28_1','Q28_1','Q28_2','Q28_3','Q28_4','Q28_5','Q28_6','Q28_7','Q28_8','Q29_1','Q29_2',\\\n",
    "                  'Q29_3','Q29_4','Q29_5','Q29_6','Q29_7','Q29_8','Q29_9','Q29_10','Q31','Q32','Q33', 'Q26'], axis = 1)\n",
    "direct_voting_q = ['Q2_1','Q2_3','Q25','Q23','Q27_1', 'Q27_2', 'Q27_3', 'Q27_4', 'Q27_5', 'Q27_6']\n",
    "survey_data = survey_data.drop(direct_voting_q, axis = 1)\n",
    "\n",
    "# Remove rows with missing data\n",
    "survey_data = survey_data.dropna(axis = 0)"
   ]
  },
  {
   "cell_type": "code",
   "execution_count": 139,
   "id": "hired-quest",
   "metadata": {
    "collapsed": true,
    "jupyter": {
     "outputs_hidden": true
    },
    "tags": []
   },
   "outputs": [
    {
     "data": {
      "text/plain": [
       "<seaborn.axisgrid.FacetGrid at 0x16bf16d5da0>"
      ]
     },
     "execution_count": 139,
     "metadata": {},
     "output_type": "execute_result"
    },
    {
     "data": {
      "image/png": "[encoded data removed]",
      "text/plain": [
       "<Figure size 1080x360 with 3 Axes>"
      ]
     },
     "metadata": {
      "needs_background": "light"
     },
     "output_type": "display_data"
    }
   ],
   "source": [
    "# Visualize Data\n",
    "g = sns.catplot(x = \"Q30\", data = survey_data, col = 'voter_category', kind = 'count')\n",
    "g.fig.suptitle(\"Party Affiliation\", y=1.05)\n",
    "g.set_xticklabels(['Republican','Democrat','Independent','Other', 'No preference'], rotation = 45)"
   ]
  },
  {
   "cell_type": "code",
   "execution_count": 142,
   "id": "indian-express",
   "metadata": {
    "collapsed": true,
    "jupyter": {
     "outputs_hidden": true
    },
    "tags": []
   },
   "outputs": [
    {
     "data": {
      "text/plain": [
       "sporadic        2211\n",
       "always          1577\n",
       "rarely/never    1192\n",
       "Name: voter_category, dtype: int64"
      ]
     },
     "execution_count": 142,
     "metadata": {},
     "output_type": "execute_result"
    }
   ],
   "source": [
    "# Check class frequency\n",
    "survey_data.voter_category.value_counts()\n",
    "# survey_data.shape"
   ]
  },
  {
   "cell_type": "code",
   "execution_count": 143,
   "id": "governing-decrease",
   "metadata": {
    "collapsed": true,
    "jupyter": {
     "outputs_hidden": true
    },
    "tags": []
   },
   "outputs": [
    {
     "data": {
      "text/plain": [
       "sporadic        1192\n",
       "rarely/never    1192\n",
       "always          1192\n",
       "Name: voter_category, dtype: int64"
      ]
     },
     "execution_count": 143,
     "metadata": {},
     "output_type": "execute_result"
    }
   ],
   "source": [
    "# Need to downsample sporadic and always voters\n",
    "from sklearn.utils import resample, shuffle\n",
    "\n",
    "# Separate dataset by class\n",
    "df_spor = survey_data[survey_data.voter_category == 'sporadic']\n",
    "df_always = survey_data[survey_data.voter_category == 'always']\n",
    "df_never = survey_data[survey_data.voter_category == 'rarely/never']\n",
    "\n",
    "# Downsample majority classes without replacement\n",
    "df_spor_ds = resample(df_spor, replace = False, n_samples = 1192, random_state = 25)\n",
    "df_always_ds = resample(df_always, replace = False, n_samples = 1192, random_state = 25)\n",
    "\n",
    "# Recombine datasets and shuffle\n",
    "survey_data_ds = pd.concat([df_spor_ds, df_always_ds, df_never])\n",
    "survey_data_ds = shuffle(survey_data_ds, random_state = 25)\n",
    "survey_data_ds.voter_category.value_counts()"
   ]
  },
  {
   "cell_type": "code",
   "execution_count": 144,
   "id": "acquired-fundamentals",
   "metadata": {
    "tags": []
   },
   "outputs": [],
   "source": [
    "# Need to encode string variables into integers\n",
    "from sklearn.preprocessing import OrdinalEncoder\n",
    "\n",
    "def encode_inputs(df, column, order='auto'):\n",
    "    new_col_name = str(column + \"_code\")\n",
    "    oe = OrdinalEncoder(categories = order)\n",
    "    df[new_col_name] = oe.fit_transform(df[[column]])\n",
    "    return df\n",
    "\n",
    "survey_data_ds = encode_inputs(survey_data_ds, 'educ', [[\"High school or less\", \"Some college\",\"College\"]])\n",
    "survey_data_ds = encode_inputs(survey_data_ds, 'income_cat', [[\"Less than $40k\", \"$40-75k\",\"$75-125k\",\"$125k or more\"]])\n",
    "survey_data_ds = encode_inputs(survey_data_ds, 'voter_category', [[\"rarely/never\", \"sporadic\",\"always\"]])\n",
    "survey_data_ds = encode_inputs(survey_data_ds, 'race')\n",
    "survey_data_ds = encode_inputs(survey_data_ds, 'gender')"
   ]
  },
  {
   "cell_type": "code",
   "execution_count": 153,
   "id": "olympic-frequency",
   "metadata": {},
   "outputs": [],
   "source": [
    "# Split data intro trainging and testing set\n",
    "from sklearn.model_selection import train_test_split\n",
    "\n",
    "train, test = train_test_split(survey_data_ds, test_size = 0.2, random_state = 25)\n",
    "\n",
    "X_train = train.iloc[:,2:89].drop(['educ','income_cat','voter_category','race','gender','ppage', 'voter_category_code'], axis=1)\n",
    "y_train = train['voter_category_code']\n",
    "\n",
    "X_test = test.iloc[:,2:89].drop(['educ','income_cat','voter_category','race','gender','ppage', 'voter_category_code'], axis=1)\n",
    "y_test = test['voter_category_code']"
   ]
  },
  {
   "cell_type": "code",
   "execution_count": 158,
   "id": "maritime-plain",
   "metadata": {},
   "outputs": [],
   "source": [
    "# Feature selection using Chi-square test\n",
    "from sklearn.feature_selection import SelectKBest\n",
    "from sklearn.feature_selection import chi2\n",
    "from sklearn.feature_selection import mutual_info_classif\n",
    "from sklearn.naive_bayes import GaussianNB\n",
    "from sklearn.metrics import accuracy_score\n",
    "\n",
    "range_of_accuracies = []\n",
    "\n",
    "for i in range(1,len(X_test.columns)):\n",
    "    fs = SelectKBest(score_func = chi2, k=i)\n",
    "    X_train_fs = fs.fit_transform(X_train, y_train)\n",
    "    gnb = GaussianNB()\n",
    "    gnb.fit(X_train_fs, y_train)\n",
    "    X_test_fs = fs.transform(X_test)\n",
    "    y_fitted = gnb.predict(X_test_fs)\n",
    "    accuracy = accuracy_score(y_test, y_fitted)\n",
    "    range_of_accuracies.append(accuracy*100)"
   ]
  },
  {
   "cell_type": "code",
   "execution_count": 164,
   "id": "introductory-inventory",
   "metadata": {
    "tags": []
   },
   "outputs": [
    {
     "name": "stdout",
     "output_type": "stream",
     "text": [
      "num_features    55.000000\n",
      "accuracies      51.536313\n",
      "Name: 54, dtype: float64\n"
     ]
    },
    {
     "data": {
      "image/png": "[encoded data removed]",
      "text/plain": [
       "<Figure size 432x288 with 1 Axes>"
      ]
     },
     "metadata": {
      "needs_background": "light"
     },
     "output_type": "display_data"
    }
   ],
   "source": [
    "# Plot accuracies\n",
    "num = np.array(range(1, len(range_of_accuracies)+1))\n",
    "sqr = np.array(range_of_accuracies)\n",
    "\n",
    "d = {'num_features': num, 'accuracies': sqr}\n",
    "acc_num = pd.DataFrame(d)\n",
    "sns.lineplot(x = num, y = sqr, data = acc_num)\n",
    "\n",
    "# Find numbers of features giving maximum accuracyu\n",
    "optimal_feat_length = acc_num.iloc[acc_num['accuracies'].idxmax()]\n",
    "print(optimal_feat_length)"
   ]
  },
  {
   "cell_type": "code",
   "execution_count": 167,
   "id": "thirty-chart",
   "metadata": {},
   "outputs": [
    {
     "data": {
      "text/plain": [
       "array([0.59423503, 0.32171582, 0.57565789])"
      ]
     },
     "execution_count": 167,
     "metadata": {},
     "output_type": "execute_result"
    }
   ],
   "source": [
    "# Train model with number of features resulting in maximum accuracy\n",
    "from sklearn.metrics import f1_score\n",
    "\n",
    "fs = SelectKBest(score_func = chi2, k=55)\n",
    "X_train_fs = fs.fit_transform(X_train, y_train)\n",
    "gnb = GaussianNB()\n",
    "gnb.fit(X_train_fs, y_train)\n",
    "X_test_fs = fs.transform(X_test)\n",
    "y_fitted = gnb.predict(X_test_fs)\n",
    "\n",
    "# Investigate F1 score of model\n",
    "f1_score(y_test, y_fitted, average = None, labels = [0.0, 1.0, 2.0])\n",
    "    "
   ]
  }
 ],
 "metadata": {
  "kernelspec": {
   "display_name": "Python 3",
   "language": "python",
   "name": "python3"
  },
  "language_info": {
   "codemirror_mode": {
    "name": "ipython",
    "version": 3
   },
   "file_extension": ".py",
   "mimetype": "text/x-python",
   "name": "python",
   "nbconvert_exporter": "python",
   "pygments_lexer": "ipython3",
   "version": "3.6.12"
  }
 },
 "nbformat": 4,
 "nbformat_minor": 5
}
